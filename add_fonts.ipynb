{
 "cells": [
  {
   "cell_type": "markdown",
   "metadata": {},
   "source": [
    "# Add font(s) to Matplotlib\n",
    "Available fonts"
   ]
  },
  {
   "cell_type": "code",
   "execution_count": 3,
   "metadata": {
    "scrolled": true
   },
   "outputs": [
    {
     "data": {
      "text/html": [
       "<div style='column-count: 2;'><p>.Keyboard: <span style='font-family:.Keyboard; font-size: 24px;'>.Keyboard</p>\n",
       "<p>.LastResort: <span style='font-family:.LastResort; font-size: 24px;'>.LastResort</p>\n",
       "<p>.SF Compact Display: <span style='font-family:.SF Compact Display; font-size: 24px;'>.SF Compact Display</p>\n",
       "<p>.SF Compact Rounded: <span style='font-family:.SF Compact Rounded; font-size: 24px;'>.SF Compact Rounded</p>\n",
       "<p>.SF Compact Text: <span style='font-family:.SF Compact Text; font-size: 24px;'>.SF Compact Text</p>\n",
       "<p>.SF NS Display Condensed: <span style='font-family:.SF NS Display Condensed; font-size: 24px;'>.SF NS Display Condensed</p>\n",
       "<p>.SF NS Rounded: <span style='font-family:.SF NS Rounded; font-size: 24px;'>.SF NS Rounded</p>\n",
       "<p>.SF NS Symbols: <span style='font-family:.SF NS Symbols; font-size: 24px;'>.SF NS Symbols</p>\n",
       "<p>.SF NS Text Condensed: <span style='font-family:.SF NS Text Condensed; font-size: 24px;'>.SF NS Text Condensed</p>\n",
       "<p>Andale Mono: <span style='font-family:Andale Mono; font-size: 24px;'>Andale Mono</p>\n",
       "<p>Apple Braille: <span style='font-family:Apple Braille; font-size: 24px;'>Apple Braille</p>\n",
       "<p>Apple Chancery: <span style='font-family:Apple Chancery; font-size: 24px;'>Apple Chancery</p>\n",
       "<p>Apple Symbols: <span style='font-family:Apple Symbols; font-size: 24px;'>Apple Symbols</p>\n",
       "<p>AppleGothic: <span style='font-family:AppleGothic; font-size: 24px;'>AppleGothic</p>\n",
       "<p>AppleMyungjo: <span style='font-family:AppleMyungjo; font-size: 24px;'>AppleMyungjo</p>\n",
       "<p>Arial: <span style='font-family:Arial; font-size: 24px;'>Arial</p>\n",
       "<p>Arial Black: <span style='font-family:Arial Black; font-size: 24px;'>Arial Black</p>\n",
       "<p>Arial Narrow: <span style='font-family:Arial Narrow; font-size: 24px;'>Arial Narrow</p>\n",
       "<p>Arial Rounded MT Bold: <span style='font-family:Arial Rounded MT Bold; font-size: 24px;'>Arial Rounded MT Bold</p>\n",
       "<p>Arial Unicode MS: <span style='font-family:Arial Unicode MS; font-size: 24px;'>Arial Unicode MS</p>\n",
       "<p>Ayuthaya: <span style='font-family:Ayuthaya; font-size: 24px;'>Ayuthaya</p>\n",
       "<p>Batang: <span style='font-family:Batang; font-size: 24px;'>Batang</p>\n",
       "<p>Big Caslon: <span style='font-family:Big Caslon; font-size: 24px;'>Big Caslon</p>\n",
       "<p>Bodoni 72 Smallcaps: <span style='font-family:Bodoni 72 Smallcaps; font-size: 24px;'>Bodoni 72 Smallcaps</p>\n",
       "<p>Bodoni Ornaments: <span style='font-family:Bodoni Ornaments; font-size: 24px;'>Bodoni Ornaments</p>\n",
       "<p>Bookshelf Symbol 7: <span style='font-family:Bookshelf Symbol 7; font-size: 24px;'>Bookshelf Symbol 7</p>\n",
       "<p>Bradley Hand: <span style='font-family:Bradley Hand; font-size: 24px;'>Bradley Hand</p>\n",
       "<p>Brush Script MT: <span style='font-family:Brush Script MT; font-size: 24px;'>Brush Script MT</p>\n",
       "<p>Calibri: <span style='font-family:Calibri; font-size: 24px;'>Calibri</p>\n",
       "<p>Cambria: <span style='font-family:Cambria; font-size: 24px;'>Cambria</p>\n",
       "<p>Cambria Math: <span style='font-family:Cambria Math; font-size: 24px;'>Cambria Math</p>\n",
       "<p>Candara: <span style='font-family:Candara; font-size: 24px;'>Candara</p>\n",
       "<p>Chalkduster: <span style='font-family:Chalkduster; font-size: 24px;'>Chalkduster</p>\n",
       "<p>Comic Sans MS: <span style='font-family:Comic Sans MS; font-size: 24px;'>Comic Sans MS</p>\n",
       "<p>Consolas: <span style='font-family:Consolas; font-size: 24px;'>Consolas</p>\n",
       "<p>Constantia: <span style='font-family:Constantia; font-size: 24px;'>Constantia</p>\n",
       "<p>Corbel: <span style='font-family:Corbel; font-size: 24px;'>Corbel</p>\n",
       "<p>Courier New: <span style='font-family:Courier New; font-size: 24px;'>Courier New</p>\n",
       "<p>DIN Alternate: <span style='font-family:DIN Alternate; font-size: 24px;'>DIN Alternate</p>\n",
       "<p>DIN Condensed: <span style='font-family:DIN Condensed; font-size: 24px;'>DIN Condensed</p>\n",
       "<p>DejaVu Sans: <span style='font-family:DejaVu Sans; font-size: 24px;'>DejaVu Sans</p>\n",
       "<p>DejaVu Sans Display: <span style='font-family:DejaVu Sans Display; font-size: 24px;'>DejaVu Sans Display</p>\n",
       "<p>DejaVu Sans Mono: <span style='font-family:DejaVu Sans Mono; font-size: 24px;'>DejaVu Sans Mono</p>\n",
       "<p>DejaVu Serif: <span style='font-family:DejaVu Serif; font-size: 24px;'>DejaVu Serif</p>\n",
       "<p>DejaVu Serif Display: <span style='font-family:DejaVu Serif Display; font-size: 24px;'>DejaVu Serif Display</p>\n",
       "<p>Diwan Thuluth: <span style='font-family:Diwan Thuluth; font-size: 24px;'>Diwan Thuluth</p>\n",
       "<p>Farisi: <span style='font-family:Farisi; font-size: 24px;'>Farisi</p>\n",
       "<p>Franklin Gothic Book: <span style='font-family:Franklin Gothic Book; font-size: 24px;'>Franklin Gothic Book</p>\n",
       "<p>Franklin Gothic Medium: <span style='font-family:Franklin Gothic Medium; font-size: 24px;'>Franklin Gothic Medium</p>\n",
       "<p>Gabriola: <span style='font-family:Gabriola; font-size: 24px;'>Gabriola</p>\n",
       "<p>Georgia: <span style='font-family:Georgia; font-size: 24px;'>Georgia</p>\n",
       "<p>Gill Sans MT: <span style='font-family:Gill Sans MT; font-size: 24px;'>Gill Sans MT</p>\n",
       "<p>Gulim: <span style='font-family:Gulim; font-size: 24px;'>Gulim</p>\n",
       "<p>Gurmukhi MT: <span style='font-family:Gurmukhi MT; font-size: 24px;'>Gurmukhi MT</p>\n",
       "<p>Herculanum: <span style='font-family:Herculanum; font-size: 24px;'>Herculanum</p>\n",
       "<p>Hoefler Text: <span style='font-family:Hoefler Text; font-size: 24px;'>Hoefler Text</p>\n",
       "<p>Impact: <span style='font-family:Impact; font-size: 24px;'>Impact</p>\n",
       "<p>Khmer Sangam MN: <span style='font-family:Khmer Sangam MN; font-size: 24px;'>Khmer Sangam MN</p>\n",
       "<p>Kokonor: <span style='font-family:Kokonor; font-size: 24px;'>Kokonor</p>\n",
       "<p>Krungthep: <span style='font-family:Krungthep; font-size: 24px;'>Krungthep</p>\n",
       "<p>Lao Sangam MN: <span style='font-family:Lao Sangam MN; font-size: 24px;'>Lao Sangam MN</p>\n",
       "<p>Lucida Console: <span style='font-family:Lucida Console; font-size: 24px;'>Lucida Console</p>\n",
       "<p>Lucida Sans Unicode: <span style='font-family:Lucida Sans Unicode; font-size: 24px;'>Lucida Sans Unicode</p>\n",
       "<p>Luminari: <span style='font-family:Luminari; font-size: 24px;'>Luminari</p>\n",
       "<p>MS Gothic: <span style='font-family:MS Gothic; font-size: 24px;'>MS Gothic</p>\n",
       "<p>MS Mincho: <span style='font-family:MS Mincho; font-size: 24px;'>MS Mincho</p>\n",
       "<p>MS PGothic: <span style='font-family:MS PGothic; font-size: 24px;'>MS PGothic</p>\n",
       "<p>MS PMincho: <span style='font-family:MS PMincho; font-size: 24px;'>MS PMincho</p>\n",
       "<p>MS Reference Sans Serif: <span style='font-family:MS Reference Sans Serif; font-size: 24px;'>MS Reference Sans Serif</p>\n",
       "<p>MS Reference Specialty: <span style='font-family:MS Reference Specialty; font-size: 24px;'>MS Reference Specialty</p>\n",
       "<p>Marlett: <span style='font-family:Marlett; font-size: 24px;'>Marlett</p>\n",
       "<p>Meiryo: <span style='font-family:Meiryo; font-size: 24px;'>Meiryo</p>\n",
       "<p>Microsoft Himalaya: <span style='font-family:Microsoft Himalaya; font-size: 24px;'>Microsoft Himalaya</p>\n",
       "<p>Microsoft Sans Serif: <span style='font-family:Microsoft Sans Serif; font-size: 24px;'>Microsoft Sans Serif</p>\n",
       "<p>Microsoft Tai Le: <span style='font-family:Microsoft Tai Le; font-size: 24px;'>Microsoft Tai Le</p>\n",
       "<p>Microsoft Yi Baiti: <span style='font-family:Microsoft Yi Baiti; font-size: 24px;'>Microsoft Yi Baiti</p>\n",
       "<p>MingLiU: <span style='font-family:MingLiU; font-size: 24px;'>MingLiU</p>\n",
       "<p>MingLiU-ExtB: <span style='font-family:MingLiU-ExtB; font-size: 24px;'>MingLiU-ExtB</p>\n",
       "<p>MingLiU_HKSCS: <span style='font-family:MingLiU_HKSCS; font-size: 24px;'>MingLiU_HKSCS</p>\n",
       "<p>MingLiU_HKSCS-ExtB: <span style='font-family:MingLiU_HKSCS-ExtB; font-size: 24px;'>MingLiU_HKSCS-ExtB</p>\n",
       "<p>Mishafi: <span style='font-family:Mishafi; font-size: 24px;'>Mishafi</p>\n",
       "<p>Mishafi Gold: <span style='font-family:Mishafi Gold; font-size: 24px;'>Mishafi Gold</p>\n",
       "<p>Mongolian Baiti: <span style='font-family:Mongolian Baiti; font-size: 24px;'>Mongolian Baiti</p>\n",
       "<p>PMingLiU: <span style='font-family:PMingLiU; font-size: 24px;'>PMingLiU</p>\n",
       "<p>PMingLiU-ExtB: <span style='font-family:PMingLiU-ExtB; font-size: 24px;'>PMingLiU-ExtB</p>\n",
       "<p>Palatino Linotype: <span style='font-family:Palatino Linotype; font-size: 24px;'>Palatino Linotype</p>\n",
       "<p>Perpetua: <span style='font-family:Perpetua; font-size: 24px;'>Perpetua</p>\n",
       "<p>Plantagenet Cherokee: <span style='font-family:Plantagenet Cherokee; font-size: 24px;'>Plantagenet Cherokee</p>\n",
       "<p>Roboto: <span style='font-family:Roboto; font-size: 24px;'>Roboto</p>\n",
       "<p>Roboto Condensed: <span style='font-family:Roboto Condensed; font-size: 24px;'>Roboto Condensed</p>\n",
       "<p>STIXGeneral: <span style='font-family:STIXGeneral; font-size: 24px;'>STIXGeneral</p>\n",
       "<p>STIXIntegralsD: <span style='font-family:STIXIntegralsD; font-size: 24px;'>STIXIntegralsD</p>\n",
       "<p>STIXIntegralsSm: <span style='font-family:STIXIntegralsSm; font-size: 24px;'>STIXIntegralsSm</p>\n",
       "<p>STIXIntegralsUp: <span style='font-family:STIXIntegralsUp; font-size: 24px;'>STIXIntegralsUp</p>\n",
       "<p>STIXIntegralsUpD: <span style='font-family:STIXIntegralsUpD; font-size: 24px;'>STIXIntegralsUpD</p>\n",
       "<p>STIXIntegralsUpSm: <span style='font-family:STIXIntegralsUpSm; font-size: 24px;'>STIXIntegralsUpSm</p>\n",
       "<p>STIXNonUnicode: <span style='font-family:STIXNonUnicode; font-size: 24px;'>STIXNonUnicode</p>\n",
       "<p>STIXSizeFiveSym: <span style='font-family:STIXSizeFiveSym; font-size: 24px;'>STIXSizeFiveSym</p>\n",
       "<p>STIXSizeFourSym: <span style='font-family:STIXSizeFourSym; font-size: 24px;'>STIXSizeFourSym</p>\n",
       "<p>STIXSizeOneSym: <span style='font-family:STIXSizeOneSym; font-size: 24px;'>STIXSizeOneSym</p>\n",
       "<p>STIXSizeThreeSym: <span style='font-family:STIXSizeThreeSym; font-size: 24px;'>STIXSizeThreeSym</p>\n",
       "<p>STIXSizeTwoSym: <span style='font-family:STIXSizeTwoSym; font-size: 24px;'>STIXSizeTwoSym</p>\n",
       "<p>STIXVariants: <span style='font-family:STIXVariants; font-size: 24px;'>STIXVariants</p>\n",
       "<p>Sathu: <span style='font-family:Sathu; font-size: 24px;'>Sathu</p>\n",
       "<p>Silom: <span style='font-family:Silom; font-size: 24px;'>Silom</p>\n",
       "<p>SimHei: <span style='font-family:SimHei; font-size: 24px;'>SimHei</p>\n",
       "<p>SimSun: <span style='font-family:SimSun; font-size: 24px;'>SimSun</p>\n",
       "<p>SimSun-ExtB: <span style='font-family:SimSun-ExtB; font-size: 24px;'>SimSun-ExtB</p>\n",
       "<p>Skia: <span style='font-family:Skia; font-size: 24px;'>Skia</p>\n",
       "<p>Symbol: <span style='font-family:Symbol; font-size: 24px;'>Symbol</p>\n",
       "<p>System Font: <span style='font-family:System Font; font-size: 24px;'>System Font</p>\n",
       "<p>Tahoma: <span style='font-family:Tahoma; font-size: 24px;'>Tahoma</p>\n",
       "<p>Times New Roman: <span style='font-family:Times New Roman; font-size: 24px;'>Times New Roman</p>\n",
       "<p>Trattatello: <span style='font-family:Trattatello; font-size: 24px;'>Trattatello</p>\n",
       "<p>Trebuchet MS: <span style='font-family:Trebuchet MS; font-size: 24px;'>Trebuchet MS</p>\n",
       "<p>Tw Cen MT: <span style='font-family:Tw Cen MT; font-size: 24px;'>Tw Cen MT</p>\n",
       "<p>Verdana: <span style='font-family:Verdana; font-size: 24px;'>Verdana</p>\n",
       "<p>Webdings: <span style='font-family:Webdings; font-size: 24px;'>Webdings</p>\n",
       "<p>Wingdings: <span style='font-family:Wingdings; font-size: 24px;'>Wingdings</p>\n",
       "<p>Wingdings 2: <span style='font-family:Wingdings 2; font-size: 24px;'>Wingdings 2</p>\n",
       "<p>Wingdings 3: <span style='font-family:Wingdings 3; font-size: 24px;'>Wingdings 3</p>\n",
       "<p>Zapf Dingbats: <span style='font-family:Zapf Dingbats; font-size: 24px;'>Zapf Dingbats</p>\n",
       "<p>Zapfino: <span style='font-family:Zapfino; font-size: 24px;'>Zapfino</p>\n",
       "<p>cmb10: <span style='font-family:cmb10; font-size: 24px;'>cmb10</p>\n",
       "<p>cmex10: <span style='font-family:cmex10; font-size: 24px;'>cmex10</p>\n",
       "<p>cmmi10: <span style='font-family:cmmi10; font-size: 24px;'>cmmi10</p>\n",
       "<p>cmr10: <span style='font-family:cmr10; font-size: 24px;'>cmr10</p>\n",
       "<p>cmss10: <span style='font-family:cmss10; font-size: 24px;'>cmss10</p>\n",
       "<p>cmsy10: <span style='font-family:cmsy10; font-size: 24px;'>cmsy10</p>\n",
       "<p>cmtt10: <span style='font-family:cmtt10; font-size: 24px;'>cmtt10</p></div>"
      ],
      "text/plain": [
       "<IPython.core.display.HTML object>"
      ]
     },
     "execution_count": 3,
     "metadata": {},
     "output_type": "execute_result"
    }
   ],
   "source": [
    "import matplotlib.font_manager\n",
    "from IPython.core.display import HTML\n",
    "\n",
    "def make_html(fontname):\n",
    "    return \"<p>{font}: <span style='font-family:{font}; font-size: 24px;'>{font}</p>\".format(font=fontname)\n",
    "\n",
    "code = \"\\n\".join([make_html(font) for font in sorted(set([f.name for f in matplotlib.font_manager.fontManager.ttflist]))])\n",
    "\n",
    "HTML(\"<div style='column-count: 2;'>{}</div>\".format(code))"
   ]
  },
  {
   "cell_type": "markdown",
   "metadata": {},
   "source": [
    "# Copy * .ttf file to ~/Library/Fonts & rebuild internal font cache"
   ]
  },
  {
   "cell_type": "code",
   "execution_count": 2,
   "metadata": {},
   "outputs": [],
   "source": [
    "from matplotlib import font_manager\n",
    "matplotlib.font_manager._rebuild()"
   ]
  },
  {
   "cell_type": "code",
   "execution_count": null,
   "metadata": {},
   "outputs": [],
   "source": []
  }
 ],
 "metadata": {
  "kernelspec": {
   "display_name": "Python 3",
   "language": "python",
   "name": "python3"
  },
  "language_info": {
   "codemirror_mode": {
    "name": "ipython",
    "version": 3
   },
   "file_extension": ".py",
   "mimetype": "text/x-python",
   "name": "python",
   "nbconvert_exporter": "python",
   "pygments_lexer": "ipython3",
   "version": "3.7.1"
  }
 },
 "nbformat": 4,
 "nbformat_minor": 2
}
