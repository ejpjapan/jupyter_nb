{
 "cells": [
  {
   "cell_type": "code",
   "execution_count": 12,
   "metadata": {},
   "outputs": [
    {
     "data": {
      "text/plain": [
       "{'cell_type': 'markdown',\n",
       " 'metadata': {},\n",
       " 'source': '# Notebook estimates strikes and number of contracts for a put selling strategy on equity indices such as S&P 500. \\n\\nAlgorithm is drawn from  JUREK, J. W. and STAFFORD, E. (2015), The Cost of Capital for Alternative Investments. The Journal of Finance, [Cost_of_Capital](https://www.hbs.edu/faculty/Publication%20Files/Cost%20of%20Capital%20for%20Alternative%20Investments_57a4f444-65fa-4f0c-b51a-116408f1dab9.pdf)\\n\\n - Requires an open session of either IB Gateway or TWS from Interactive Brokers'}"
      ]
     },
     "execution_count": 12,
     "metadata": {},
     "output_type": "execute_result"
    }
   ],
   "source": [
    "from urllib.request import urlopen\n",
    "from pathlib import Path\n",
    "file_name = Path.home() / 'Dropbox' / 'Jupyter' / 'spx' / 'daily_run.ipynb'\n",
    "file_name.is_file()\n",
    "url = 'file://' + str(file_name)\n",
    "response = urlopen(url).read().decode()\n",
    "\n",
    "import nbformat\n",
    "eb_notebook = nbformat.reads(response, as_version=4)\n",
    "eb_notebook.cells[0]"
   ]
  },
  {
   "cell_type": "code",
   "execution_count": 13,
   "metadata": {},
   "outputs": [],
   "source": [
    "from traitlets.config import Config\n",
    "from nbconvert import HTMLExporter\n",
    "\n",
    "html_exporter = HTMLExporter() \n",
    "html_exporter.template_file = 'basic'\n",
    "# 3. Process the notebook we loaded earlier\n",
    "(body, resources) = html_exporter.from_notebook_node(eb_notebook)\n",
    "\n"
   ]
  },
  {
   "cell_type": "code",
   "execution_count": 9,
   "metadata": {},
   "outputs": [
    {
     "name": "stdout",
     "output_type": "stream",
     "text": [
      "Resources: dict_keys(['metadata', 'output_extension', 'inlining', 'raw_mimetypes', 'global_content_filter'])\n",
      "Metadata: dict_keys(['name'])\n",
      "Inlining: dict_keys(['css'])\n",
      "Extension: .html\n"
     ]
    }
   ],
   "source": [
    "print(\"Resources:\", resources.keys())\n",
    "print(\"Metadata:\", resources['metadata'].keys())\n",
    "print(\"Inlining:\", resources['inlining'].keys())\n",
    "print(\"Extension:\", resources['output_extension'])"
   ]
  },
  {
   "cell_type": "code",
   "execution_count": null,
   "metadata": {},
   "outputs": [],
   "source": []
  }
 ],
 "metadata": {
  "kernelspec": {
   "display_name": "Python 3",
   "language": "python",
   "name": "python3"
  },
  "language_info": {
   "codemirror_mode": {
    "name": "ipython",
    "version": 3
   },
   "file_extension": ".py",
   "mimetype": "text/x-python",
   "name": "python",
   "nbconvert_exporter": "python",
   "pygments_lexer": "ipython3",
   "version": "3.7.5"
  }
 },
 "nbformat": 4,
 "nbformat_minor": 2
}
