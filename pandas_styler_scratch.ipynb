{
 "cells": [
  {
   "cell_type": "code",
   "execution_count": 12,
   "metadata": {},
   "outputs": [
    {
     "data": {
      "text/plain": [
       "{'cell_type': 'markdown',\n",
       " 'metadata': {},\n",
       " 'source': '# Notebook estimates strikes and number of contracts for a put selling strategy on equity indices such as S&P 500. \\n\\nAlgorithm is drawn from  JUREK, J. W. and STAFFORD, E. (2015), The Cost of Capital for Alternative Investments. The Journal of Finance, [Cost_of_Capital](https://www.hbs.edu/faculty/Publication%20Files/Cost%20of%20Capital%20for%20Alternative%20Investments_57a4f444-65fa-4f0c-b51a-116408f1dab9.pdf)\\n\\n - Requires an open session of either IB Gateway or TWS from Interactive Brokers'}"
      ]
     },
     "execution_count": 12,
     "metadata": {},
     "output_type": "execute_result"
    }
   ],
   "source": [
    "def format_index(df):\n",
    "    df = df.set_index(df.index.strftime('%Y.%m.%d'))\n",
    "    return df\n",
    "\n",
    "def df_styler(df, table_name=None):\n",
    "    df = format_index(df)\n",
    "    df_styler_out = df.style.set_table_attributes(\"style='display:inline'\").set_caption(table_name)\n",
    "    return df_styler_out\n",
    "\n",
    "def super_styler(dfs, table_names, format_str):\n",
    "    df_style_list = [df_style.format(format_str) for df_style in \n",
    "                      [df_styler(df, tbl_name) for df, tbl_name  in zip(dfs, table_names)]]\n",
    "    df_style_list = [item._repr_html_() for item in df_style_list]\n",
    "    str_out = ''.join(df_style_list)\n",
    "    return str_out\n",
    "\n",
    "def title_display(title):\n",
    "    if spx_asset.option_asset.trading_class == 'SPXW':\n",
    "        title = title + ' - Weeklys'\n",
    "    display(HTML('<h1>' + title + '</h1>'))\n",
    "\n",
    "\n",
    "title_display('Trade Grid')\n",
    "display_html(df_styler(trd_choice.strike_grid, 'Strike Grid')._repr_html_() + \n",
    "             df_styler(trd_choice.premium_grid, 'Premium Grid')._repr_html_() + \n",
    "             df_styler(trd_choice.prices_grid, 'Prices Grid')._repr_html_(), raw=True) \n",
    "\n",
    "prct_decline =  format_index(trd_choice.pct_otm_grid(last_price))\n",
    "format_dict = {x: '{:.2%}' for x in prct_decline.to_dict()}\n",
    "\n",
    "title_display('Strike Moneyness')\n",
    "display(prct_decline.style.format(format_dict).set_caption('Strike % OTM'))\n",
    "\n",
    "leverage_table_names = ['Leverage: ' + str(lev) for lev in leverage]\n",
    "premium_list =  [(trd_choice.premium_grid * contractTable.round() * 100) \\\n",
    "                 for contractTable in trd_choice.option_lots(leverage, capital_at_risk)]\n",
    "\n",
    "title_display('Premium')\n",
    "display_html(super_styler(premium_list, leverage_table_names, '${:,.0f}'), raw=True)\n",
    "\n",
    "title_display('Premium as % of capital at risk')\n",
    "premium_list_pct = [df / capital_at_risk for df in premium_list]\n",
    "display_html(super_styler(premium_list_pct, leverage_table_names, '{:.2%}'), raw=True)\n",
    "contract_table_list = trd_choice.option_lots(leverage, capital_at_risk)\n",
    "\n",
    "title_display('Contract to Trade')\n",
    "display_html(super_styler(contract_table_list, leverage_table_names, '{:.0f}'), raw=True)\n",
    "\n",
    "title_display('Margin')\n",
    "margin_dlr_list = [trd_choice.margin(last_price) * df for df in trd_choice.option_lots(leverage, capital_at_risk)]\n",
    "display_html(super_styler(margin_dlr_list, leverage_table_names, '${:,.0f}'), raw=True)\n",
    "\n",
    "title_display('Notional $ Exposure')\n",
    "notional_dlr=[df * trd_choice.strike_grid * 100 for df in trd_choice.option_lots(leverage, capital_at_risk)]\n",
    "display_html(super_styler(notional_dlr, leverage_table_names, '${:,.0f}'), raw=True)"
   ]
  },
  {
   "cell_type": "code",
   "execution_count": null,
   "metadata": {},
   "outputs": [],
   "source": []
  }
 ],
 "metadata": {
  "kernelspec": {
   "display_name": "Python 3",
   "language": "python",
   "name": "python3"
  },
  "language_info": {
   "codemirror_mode": {
    "name": "ipython",
    "version": 3
   },
   "file_extension": ".py",
   "mimetype": "text/x-python",
   "name": "python",
   "nbconvert_exporter": "python",
   "pygments_lexer": "ipython3",
   "version": "3.7.5"
  }
 },
 "nbformat": 4,
 "nbformat_minor": 2
}
